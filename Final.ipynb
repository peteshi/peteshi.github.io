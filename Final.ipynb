{
 "cells": [
  {
   "cell_type": "markdown",
   "metadata": {},
   "source": [
    "# What Factors Influence and can Predict Academic Success?\n",
    "#### A Case Study on two Portugese Schools using Data Science by Peter Shi in Collaboration with Leelee Liang\n",
    "###### Published on 12/21/2020\n",
    "\n",
    "## Introduction\n",
    "Data science is analysis using data. In this tutorial, we will walk through the entire pipeline including data wrangling, exploratory data analysis, hypothesis testing, machine learning, and statements we can make summarizing the insights learned throughout the process. The data we have chosen to analyze is 30 columns of various features potentially impacting grade including gender, age, address, family size, etcetera between Gabriel Pereira and Mousinho da Silveira schools."
   ]
  },
  {
   "cell_type": "markdown",
   "metadata": {},
   "source": [
    "Here we list all the libraries and modules we will use throughout the tutorial to import them now for convenience, but we will list them again as we use them for the first time. "
   ]
  },
  {
   "cell_type": "code",
   "execution_count": null,
   "metadata": {},
   "outputs": [],
   "source": [
    "import pandas as pd\n",
    "import numpy as np\n",
    "import matplotlib.pyplot as plt\n",
    "\n",
    "from sklearn.linear_model import LogisticRegression\n",
    "from sklearn.model_selection import train_test_split\n",
    "from sklearn.model_selection import KFold\n",
    "from sklearn import metrics\n",
    "import statsmodels.api as sm\n",
    "from sklearn.linear_model import LinearRegression"
   ]
  },
  {
   "cell_type": "markdown",
   "metadata": {},
   "source": [
    "### Data Wrangling\n",
    "Our first step, data wrangling, is the acquirement and processing of data so as to analyze it. This can be achieved in a variety of ways including scraping publically available data from the html on websites, surveying your subjects yourself, simulations that generate data, and more, eventually arriving at something like a comma separated values file with data neatly organized, easily readable by a machine. If you are acquiring your data of interest in a different way, you can look into python's beautifulsoup library to read html or sqlite3 for sqlite files.\n",
    "\n",
    "We will be working on a csv (comma separated values) file, with the pandas library, which includes table-like objects called dataframes. Pandas includes the read_csv() function which can read csv files into a dataframe. We will do this for the math and portugese files, then combine them with pandas' concat() function. 30 features is a lot, so we will select a portion for some operations. Dataframes accept arrays of column names for selection, and we can call head() to see a few entries to make sure we have it right. "
   ]
  },
  {
   "cell_type": "code",
   "execution_count": 411,
   "metadata": {
    "scrolled": true
   },
   "outputs": [
    {
     "name": "stdout",
     "output_type": "stream",
     "text": [
      "<class 'pandas.core.frame.DataFrame'>\n",
      "Int64Index: 1044 entries, 0 to 648\n",
      "Data columns (total 33 columns):\n",
      " #   Column      Non-Null Count  Dtype \n",
      "---  ------      --------------  ----- \n",
      " 0   school      1044 non-null   object\n",
      " 1   sex         1044 non-null   object\n",
      " 2   age         1044 non-null   int64 \n",
      " 3   address     1044 non-null   object\n",
      " 4   famsize     1044 non-null   object\n",
      " 5   Pstatus     1044 non-null   object\n",
      " 6   Medu        1044 non-null   int64 \n",
      " 7   Fedu        1044 non-null   int64 \n",
      " 8   Mjob        1044 non-null   object\n",
      " 9   Fjob        1044 non-null   object\n",
      " 10  reason      1044 non-null   object\n",
      " 11  guardian    1044 non-null   object\n",
      " 12  traveltime  1044 non-null   int64 \n",
      " 13  studytime   1044 non-null   int64 \n",
      " 14  failures    1044 non-null   int64 \n",
      " 15  schoolsup   1044 non-null   object\n",
      " 16  famsup      1044 non-null   object\n",
      " 17  paid        1044 non-null   object\n",
      " 18  activities  1044 non-null   object\n",
      " 19  nursery     1044 non-null   object\n",
      " 20  higher      1044 non-null   object\n",
      " 21  internet    1044 non-null   object\n",
      " 22  romantic    1044 non-null   object\n",
      " 23  famrel      1044 non-null   int64 \n",
      " 24  freetime    1044 non-null   int64 \n",
      " 25  goout       1044 non-null   int64 \n",
      " 26  Dalc        1044 non-null   int64 \n",
      " 27  Walc        1044 non-null   int64 \n",
      " 28  health      1044 non-null   int64 \n",
      " 29  absences    1044 non-null   int64 \n",
      " 30  G1          1044 non-null   int64 \n",
      " 31  G2          1044 non-null   int64 \n",
      " 32  G3          1044 non-null   int64 \n",
      "dtypes: int64(16), object(17)\n",
      "memory usage: 277.3+ KB\n",
      "None\n"
     ]
    },
    {
     "data": {
      "text/html": [
       "<div>\n",
       "<style scoped>\n",
       "    .dataframe tbody tr th:only-of-type {\n",
       "        vertical-align: middle;\n",
       "    }\n",
       "\n",
       "    .dataframe tbody tr th {\n",
       "        vertical-align: top;\n",
       "    }\n",
       "\n",
       "    .dataframe thead th {\n",
       "        text-align: right;\n",
       "    }\n",
       "</style>\n",
       "<table border=\"1\" class=\"dataframe\">\n",
       "  <thead>\n",
       "    <tr style=\"text-align: right;\">\n",
       "      <th></th>\n",
       "      <th>school</th>\n",
       "      <th>sex</th>\n",
       "      <th>age</th>\n",
       "      <th>studytime</th>\n",
       "      <th>internet</th>\n",
       "      <th>absences</th>\n",
       "      <th>G3</th>\n",
       "    </tr>\n",
       "  </thead>\n",
       "  <tbody>\n",
       "    <tr>\n",
       "      <th>0</th>\n",
       "      <td>GP</td>\n",
       "      <td>F</td>\n",
       "      <td>18</td>\n",
       "      <td>2</td>\n",
       "      <td>no</td>\n",
       "      <td>6</td>\n",
       "      <td>6</td>\n",
       "    </tr>\n",
       "    <tr>\n",
       "      <th>1</th>\n",
       "      <td>GP</td>\n",
       "      <td>F</td>\n",
       "      <td>17</td>\n",
       "      <td>2</td>\n",
       "      <td>yes</td>\n",
       "      <td>4</td>\n",
       "      <td>6</td>\n",
       "    </tr>\n",
       "    <tr>\n",
       "      <th>2</th>\n",
       "      <td>GP</td>\n",
       "      <td>F</td>\n",
       "      <td>15</td>\n",
       "      <td>2</td>\n",
       "      <td>yes</td>\n",
       "      <td>10</td>\n",
       "      <td>10</td>\n",
       "    </tr>\n",
       "    <tr>\n",
       "      <th>3</th>\n",
       "      <td>GP</td>\n",
       "      <td>F</td>\n",
       "      <td>15</td>\n",
       "      <td>3</td>\n",
       "      <td>yes</td>\n",
       "      <td>2</td>\n",
       "      <td>15</td>\n",
       "    </tr>\n",
       "    <tr>\n",
       "      <th>4</th>\n",
       "      <td>GP</td>\n",
       "      <td>F</td>\n",
       "      <td>16</td>\n",
       "      <td>2</td>\n",
       "      <td>no</td>\n",
       "      <td>4</td>\n",
       "      <td>10</td>\n",
       "    </tr>\n",
       "  </tbody>\n",
       "</table>\n",
       "</div>"
      ],
      "text/plain": [
       "  school sex  age  studytime internet  absences  G3\n",
       "0     GP   F   18          2       no         6   6\n",
       "1     GP   F   17          2      yes         4   6\n",
       "2     GP   F   15          2      yes        10  10\n",
       "3     GP   F   15          3      yes         2  15\n",
       "4     GP   F   16          2       no         4  10"
      ]
     },
     "execution_count": 411,
     "metadata": {},
     "output_type": "execute_result"
    }
   ],
   "source": [
    "import pandas as pd\n",
    "\n",
    "# Reading files into a dataframe\n",
    "mat_data = pd.read_csv(\"student-mat.csv\", header=0, sep=';', engine='python')\n",
    "por_data = pd.read_csv(\"student-por.csv\", header=0, sep=';', engine='python')\n",
    "total_data = pd.concat([mat_data, por_data], axis=0)\n",
    "\n",
    "print(total_data.info())\n",
    "\n",
    "data = total_data[['school', 'sex', 'age', 'studytime', 'internet', 'absences', 'G3']]\n",
    "\n",
    "data.head()"
   ]
  },
  {
   "cell_type": "markdown",
   "metadata": {},
   "source": [
    "If your data does not come with well-named columns, you can rename them by setting the columns attribute with an array. Also be sure to check if there are missing values or special characters that you may want to replace with a more processable symbol using dataframe.replace(toReplace, replacement) which can also accept arrays."
   ]
  },
  {
   "cell_type": "code",
   "execution_count": 429,
   "metadata": {},
   "outputs": [
    {
     "data": {
      "text/html": [
       "<div>\n",
       "<style scoped>\n",
       "    .dataframe tbody tr th:only-of-type {\n",
       "        vertical-align: middle;\n",
       "    }\n",
       "\n",
       "    .dataframe tbody tr th {\n",
       "        vertical-align: top;\n",
       "    }\n",
       "\n",
       "    .dataframe thead th {\n",
       "        text-align: right;\n",
       "    }\n",
       "</style>\n",
       "<table border=\"1\" class=\"dataframe\">\n",
       "  <thead>\n",
       "    <tr style=\"text-align: right;\">\n",
       "      <th></th>\n",
       "      <th>one</th>\n",
       "      <th>two</th>\n",
       "      <th>three</th>\n",
       "      <th>four</th>\n",
       "      <th>five</th>\n",
       "      <th>six</th>\n",
       "      <th>seven</th>\n",
       "    </tr>\n",
       "  </thead>\n",
       "  <tbody>\n",
       "    <tr>\n",
       "      <th>0</th>\n",
       "      <td>GP</td>\n",
       "      <td>F</td>\n",
       "      <td>18</td>\n",
       "      <td>2</td>\n",
       "      <td>no</td>\n",
       "      <td>6</td>\n",
       "      <td>6</td>\n",
       "    </tr>\n",
       "    <tr>\n",
       "      <th>1</th>\n",
       "      <td>GP</td>\n",
       "      <td>F</td>\n",
       "      <td>17</td>\n",
       "      <td>2</td>\n",
       "      <td>yes</td>\n",
       "      <td>4</td>\n",
       "      <td>6</td>\n",
       "    </tr>\n",
       "    <tr>\n",
       "      <th>2</th>\n",
       "      <td>GP</td>\n",
       "      <td>F</td>\n",
       "      <td>15</td>\n",
       "      <td>2</td>\n",
       "      <td>yes</td>\n",
       "      <td>10</td>\n",
       "      <td>10</td>\n",
       "    </tr>\n",
       "    <tr>\n",
       "      <th>3</th>\n",
       "      <td>GP</td>\n",
       "      <td>F</td>\n",
       "      <td>15</td>\n",
       "      <td>3</td>\n",
       "      <td>yes</td>\n",
       "      <td>2</td>\n",
       "      <td>15</td>\n",
       "    </tr>\n",
       "    <tr>\n",
       "      <th>4</th>\n",
       "      <td>GP</td>\n",
       "      <td>F</td>\n",
       "      <td>16</td>\n",
       "      <td>2</td>\n",
       "      <td>no</td>\n",
       "      <td>4</td>\n",
       "      <td>10</td>\n",
       "    </tr>\n",
       "  </tbody>\n",
       "</table>\n",
       "</div>"
      ],
      "text/plain": [
       "  one two  three  four five  six  seven\n",
       "0  GP   F     18     2   no    6      6\n",
       "1  GP   F     17     2  yes    4      6\n",
       "2  GP   F     15     2  yes   10     10\n",
       "3  GP   F     15     3  yes    2     15\n",
       "4  GP   F     16     2   no    4     10"
      ]
     },
     "execution_count": 429,
     "metadata": {},
     "output_type": "execute_result"
    }
   ],
   "source": [
    "cols = data.columns\n",
    "data.columns = ['one', 'two', 'three', 'four', 'five', 'six', 'seven']\n",
    "data.head()"
   ]
  },
  {
   "cell_type": "code",
   "execution_count": 431,
   "metadata": {},
   "outputs": [
    {
     "data": {
      "text/html": [
       "<div>\n",
       "<style scoped>\n",
       "    .dataframe tbody tr th:only-of-type {\n",
       "        vertical-align: middle;\n",
       "    }\n",
       "\n",
       "    .dataframe tbody tr th {\n",
       "        vertical-align: top;\n",
       "    }\n",
       "\n",
       "    .dataframe thead th {\n",
       "        text-align: right;\n",
       "    }\n",
       "</style>\n",
       "<table border=\"1\" class=\"dataframe\">\n",
       "  <thead>\n",
       "    <tr style=\"text-align: right;\">\n",
       "      <th></th>\n",
       "      <th>school</th>\n",
       "      <th>sex</th>\n",
       "      <th>age</th>\n",
       "      <th>studytime</th>\n",
       "      <th>internet</th>\n",
       "      <th>absences</th>\n",
       "      <th>G3</th>\n",
       "    </tr>\n",
       "  </thead>\n",
       "  <tbody>\n",
       "    <tr>\n",
       "      <th>0</th>\n",
       "      <td>GP</td>\n",
       "      <td>F</td>\n",
       "      <td>18</td>\n",
       "      <td>2</td>\n",
       "      <td>no</td>\n",
       "      <td>6</td>\n",
       "      <td>6</td>\n",
       "    </tr>\n",
       "    <tr>\n",
       "      <th>1</th>\n",
       "      <td>GP</td>\n",
       "      <td>F</td>\n",
       "      <td>17</td>\n",
       "      <td>2</td>\n",
       "      <td>yes</td>\n",
       "      <td>4</td>\n",
       "      <td>6</td>\n",
       "    </tr>\n",
       "    <tr>\n",
       "      <th>2</th>\n",
       "      <td>GP</td>\n",
       "      <td>F</td>\n",
       "      <td>15</td>\n",
       "      <td>2</td>\n",
       "      <td>yes</td>\n",
       "      <td>10</td>\n",
       "      <td>10</td>\n",
       "    </tr>\n",
       "    <tr>\n",
       "      <th>3</th>\n",
       "      <td>GP</td>\n",
       "      <td>F</td>\n",
       "      <td>15</td>\n",
       "      <td>3</td>\n",
       "      <td>yes</td>\n",
       "      <td>2</td>\n",
       "      <td>15</td>\n",
       "    </tr>\n",
       "    <tr>\n",
       "      <th>4</th>\n",
       "      <td>GP</td>\n",
       "      <td>F</td>\n",
       "      <td>16</td>\n",
       "      <td>2</td>\n",
       "      <td>no</td>\n",
       "      <td>4</td>\n",
       "      <td>10</td>\n",
       "    </tr>\n",
       "  </tbody>\n",
       "</table>\n",
       "</div>"
      ],
      "text/plain": [
       "  school sex  age  studytime internet  absences  G3\n",
       "0     GP   F   18          2       no         6   6\n",
       "1     GP   F   17          2      yes         4   6\n",
       "2     GP   F   15          2      yes        10  10\n",
       "3     GP   F   15          3      yes         2  15\n",
       "4     GP   F   16          2       no         4  10"
      ]
     },
     "execution_count": 431,
     "metadata": {},
     "output_type": "execute_result"
    }
   ],
   "source": [
    "data.columns = cols\n",
    "data.head()"
   ]
  },
  {
   "cell_type": "markdown",
   "metadata": {},
   "source": [
    "### Exploratory data analysis:\n",
    "Now that we have our data in a dataframe, let's select some features to examine in relation to final grade 'G3' to get a quick first look at what their relationship looks like. To do this, we will import matplotlib's pyplot module to output some graphs for visualization. We will iterate over the columns returned by dataframe's iteritems() function, group the grades by each column's classification, and graph the mean grade of those in each classifier. Various lines to customize the graph are included. We do this again for the 'absences' column to show how a scatter plot can look as it seems to be a better way to show more continuous data."
   ]
  },
  {
   "cell_type": "code",
   "execution_count": 585,
   "metadata": {},
   "outputs": [
    {
     "data": {
      "image/png": "[encoded data removed]",
      "text/plain": [
       "<Figure size 432x288 with 1 Axes>"
      ]
     },
     "metadata": {
      "needs_background": "light"
     },
     "output_type": "display_data"
    },
    {
     "data": {
      "image/png": "[encoded data removed]",
      "text/plain": [
       "<Figure size 432x288 with 1 Axes>"
      ]
     },
     "metadata": {
      "needs_background": "light"
     },
     "output_type": "display_data"
    },
    {
     "data": {
      "image/png": "[encoded data removed]",
      "text/plain": [
       "<Figure size 432x288 with 1 Axes>"
      ]
     },
     "metadata": {
      "needs_background": "light"
     },
     "output_type": "display_data"
    },
    {
     "data": {
      "image/png": "[encoded data removed]",
      "text/plain": [
       "<Figure size 432x288 with 1 Axes>"
      ]
     },
     "metadata": {
      "needs_background": "light"
     },
     "output_type": "display_data"
    },
    {
     "data": {
      "image/png": "[encoded data removed]",
      "text/plain": [
       "<Figure size 432x288 with 1 Axes>"
      ]
     },
     "metadata": {
      "needs_background": "light"
     },
     "output_type": "display_data"
    },
    {
     "data": {
      "image/png": "[encoded data removed]",
      "text/plain": [
       "<Figure size 432x288 with 1 Axes>"
      ]
     },
     "metadata": {
      "needs_background": "light"
     },
     "output_type": "display_data"
    },
    {
     "data": {
      "image/png": "[encoded data removed]",
      "text/plain": [
       "<Figure size 432x288 with 1 Axes>"
      ]
     },
     "metadata": {
      "needs_background": "light"
     },
     "output_type": "display_data"
    }
   ],
   "source": [
    "import matplotlib.pyplot as plt\n",
    "\n",
    "for (col_name, col_data) in data.drop(columns=['G3']).iteritems():\n",
    "    col_data = data[[col_name, 'G3']].groupby([col_name], as_index = False).mean()\n",
    "    fig, ax = plt.subplots()\n",
    "    ax.set_title(\"Year 3 Grade Grouped by \" + col_name.capitalize())\n",
    "    plt.bar(col_data[col_name], col_data['G3'])\n",
    "    plt.xlabel(col_name.capitalize())\n",
    "    plt.ylabel('Year 3 Grade (out of 20)')\n",
    "    plt.show()\n",
    "    \n",
    "absence_data = data[['absences', 'G3']].groupby(['absences'], as_index = False).mean()\n",
    "fig, ax = plt.subplots()\n",
    "ax.set_title('Year 3 Grade Grouped by Absences')\n",
    "plt.scatter(absence_data['absences'], absence_data['G3'])\n",
    "plt.xlabel('Absences')\n",
    "plt.ylabel('Year 3 Grade (out of 20)')\n",
    "plt.show()"
   ]
  },
  {
   "cell_type": "markdown",
   "metadata": {},
   "source": [
    "We can notice a couple of things from this exploratory analysis. There is not a significant difference in grade between schools, genders, or internet access. Gabriel Pereira is higher than Mousinho da Silveira by about 1 grade value. Females are higher than males by about ~0.2. Internet access is also a difference of about 1. Grade seems to slowly drop from age 15 to 19, spike at 20, and rapidly drop to the prior low from 21 to 22 within the range of ~[9, 12] in grade. Study time is weighted somewhat exponentially <2, 2-5, 5-8, 10 hours so studying 3-6 more hours per week seems to raise grade by a bit more than 1 on average. "
   ]
  },
  {
   "cell_type": "markdown",
   "metadata": {},
   "source": [
    "Absences is spread out over many counts. We could aggregate this and look at ranges, but another option is a least squares line on top of the scatter plot which helps show its linearity a bit better as well as offers an expected grade from the student's number of absences. To do this, we will use the numpy library's polyfit function which returns the coefficient and y-intercept of a linear function. Then we just need to plot this function with plt as well. "
   ]
  },
  {
   "cell_type": "code",
   "execution_count": 588,
   "metadata": {},
   "outputs": [
    {
     "name": "stdout",
     "output_type": "stream",
     "text": [
      "Grade = -0.03671 Absences + 11.64143\n"
     ]
    },
    {
     "data": {
      "image/png": "[encoded data removed]",
      "text/plain": [
       "<Figure size 432x288 with 1 Axes>"
      ]
     },
     "metadata": {
      "needs_background": "light"
     },
     "output_type": "display_data"
    }
   ],
   "source": [
    "import numpy as np\n",
    "\n",
    "m, b = np.polyfit(absence_data['absences'], absence_data['G3'], 1)\n",
    "print(\"Grade = %.5f Absences + %.5f\" %(m,b))\n",
    "plt.scatter(absence_data['absences'], absence_data['G3'])\n",
    "plt.plot(absence_data['absences'], m*x + b)\n",
    "plt.show()"
   ]
  },
  {
   "cell_type": "markdown",
   "metadata": {},
   "source": [
    "Grade seems to decrease by .037 for every one absence on average, however the data is rather sparse towards more than 20-30  absences so it is more of an extrapolation. Those data points are not a mean, but single cases (shown below). It is because of this that there are higher grades from 0-30, but the spread is just getting larger as there are not many cases. Notice the label range gets smaller as well, if we look at the raw data, there will be many high scorers at 0 absences when there is not that many other students at 0 absences weighing them towards a lower average.\n",
    "\n",
    "We'll plot every student as a point to show this. "
   ]
  },
  {
   "cell_type": "code",
   "execution_count": 367,
   "metadata": {},
   "outputs": [
    {
     "data": {
      "image/png": "[encoded data removed]",
      "text/plain": [
       "<Figure size 432x288 with 1 Axes>"
      ]
     },
     "metadata": {
      "needs_background": "light"
     },
     "output_type": "display_data"
    }
   ],
   "source": [
    "fig, ax = plt.subplots()\n",
    "ax.set_title('Absences')\n",
    "plt.scatter(data['absences'], data['G3'])\n",
    "plt.show()"
   ]
  },
  {
   "cell_type": "markdown",
   "metadata": {},
   "source": [
    "This shows the distribution of absences vs grades pretty well, but we're not making use of colors to show more. Let's use list comprehensions to generate an array suitable for directing scatter plot point colors to visualize gender distribution in relation with absences and grades. List comprehensions are an elegant way to generate a list using iterables. "
   ]
  },
  {
   "cell_type": "code",
   "execution_count": 374,
   "metadata": {},
   "outputs": [
    {
     "data": {
      "image/png": "[encoded data removed]",
      "text/plain": [
       "<Figure size 432x288 with 1 Axes>"
      ]
     },
     "metadata": {
      "needs_background": "light"
     },
     "output_type": "display_data"
    }
   ],
   "source": [
    "gender_colors = ['blue' if student == 'M' else 'pink' for student in data['sex']]\n",
    "\n",
    "plt.scatter(data['absences'], data['G3'], color=gender_colors)\n",
    "plt.show()"
   ]
  },
  {
   "cell_type": "markdown",
   "metadata": {},
   "source": [
    "Now we can see which points are which gender. There is not much to say about relatively low absences (0 to 20), but some outliers we notice are the 3 girls at unusually large absences (50 to ~75) and the two boys with unusually low grades (~1.25 - 0) at zero absences. "
   ]
  },
  {
   "cell_type": "markdown",
   "metadata": {},
   "source": [
    "Now let's try the same thing with a feature that is more of a gradient, age. We cannot color key as easily when there's a large range of values, but we can use use pyplot's scatter function's cmap (color map) parameter to assign the data to a color map. In this case, we use a red, yellow, green gradient where youngest is red and oldest is green. From dataframe functions min() and max(), we can find out the range, 15 to 22, and from boolean operations we can find the data of the highest red dot.\n",
    "\n",
    "More color map options can be found in the documentation\n",
    "https://matplotlib.org/3.1.0/tutorials/colors/colormaps.html"
   ]
  },
  {
   "cell_type": "code",
   "execution_count": 401,
   "metadata": {},
   "outputs": [
    {
     "name": "stdout",
     "output_type": "stream",
     "text": [
      "   school sex  age  studytime internet  absences  G3\n",
      "47     GP   M   16          4      yes         4  20\n",
      "15\n",
      "22\n"
     ]
    },
    {
     "data": {
      "image/png": "[encoded data removed]",
      "text/plain": [
       "<Figure size 432x288 with 1 Axes>"
      ]
     },
     "metadata": {
      "needs_background": "light"
     },
     "output_type": "display_data"
    }
   ],
   "source": [
    "plt.scatter(data['absences'], data['G3'], c=data['age'], cmap=\"RdYlGn\")\n",
    "\n",
    "print(data[data['G3'] == data['G3'].max()])\n",
    "print(data['age'].min())\n",
    "print(data['age'].max())"
   ]
  },
  {
   "cell_type": "markdown",
   "metadata": {},
   "source": [
    "We can normalize absences and grades, which just means performing two operations: subtracting the mean and then dividing by the standard deviation. What this does is first centers the data around 0 (mean = 0), then measures deviation in terms of standard deviations (standard deviation = 1). This standardizes the data such that it is much more comparable with other normalized data. Python's dataframe has methods that takes care of finding the mean and standard deviation. On graphing the transformed data, we find its shape has not changed, but we can now see how absences influences grade in terms of standard deviations which is much more relative.  "
   ]
  },
  {
   "cell_type": "code",
   "execution_count": 547,
   "metadata": {},
   "outputs": [
    {
     "name": "stdout",
     "output_type": "stream",
     "text": [
      "0    0.252034\n",
      "1   -0.070027\n",
      "2    0.896154\n",
      "3   -0.392087\n",
      "4   -0.070027\n",
      "Name: absences, dtype: float64 0   -1.382209\n",
      "1   -1.382209\n",
      "2   -0.347225\n",
      "3    0.946504\n",
      "4   -0.347225\n",
      "Name: G3, dtype: float64\n"
     ]
    }
   ],
   "source": [
    "import statsmodels.stats.weightstats as sm\n",
    "\n",
    "abs_mean = data['absences'].mean()\n",
    "abs_std = data['absences'].std()\n",
    "norm_abs = (data['absences'] - abs_mean) / abs_std\n",
    "\n",
    "grd_mean = data['G3'].mean()\n",
    "grd_std = data['G3'].std()\n",
    "norm_grd = (data['G3'] - grd_mean) / grd_std\n",
    "\n",
    "tstat, pvalue = sm.ztest(norm_abs, norm_grd)\n",
    "\n",
    "print(norm_abs.head(), norm_grd.head())"
   ]
  },
  {
   "cell_type": "markdown",
   "metadata": {},
   "source": [
    "If we were to apply a regression line to the normalized data, we would find the y intercept is 0 (approximated to near 0), and the coefficient to be similar to before, but now in terms of standard deviations (grade change in standard deviations with each standard deviation increase in absences) with standard deviation being a measure of the spread of the data. "
   ]
  },
  {
   "cell_type": "code",
   "execution_count": 470,
   "metadata": {},
   "outputs": [
    {
     "name": "stdout",
     "output_type": "stream",
     "text": [
      "\n",
      "Grade =  -0.0456705769883734 Absences +  -1.580584840074503e-16\n"
     ]
    },
    {
     "data": {
      "image/png": "[encoded data removed]",
      "text/plain": [
       "<Figure size 432x288 with 1 Axes>"
      ]
     },
     "metadata": {
      "needs_background": "light"
     },
     "output_type": "display_data"
    }
   ],
   "source": [
    "m, b = np.polyfit(norm_abs, norm_grd, 1)\n",
    "print(\"\\nGrade = \", m, \"Absences + \", b)\n",
    "\n",
    "plt.scatter(norm_abs, norm_grd)\n",
    "plt.plot(norm_abs, m*norm_abs + b)\n",
    "plt.show()"
   ]
  },
  {
   "cell_type": "markdown",
   "metadata": {},
   "source": [
    "Another interesting thing we can ask is does having internet access correlate to decreased study time? We group grades by internet access to find out. "
   ]
  },
  {
   "cell_type": "code",
   "execution_count": 607,
   "metadata": {},
   "outputs": [
    {
     "data": {
      "image/png": "[encoded data removed]",
      "text/plain": [
       "<Figure size 432x288 with 1 Axes>"
      ]
     },
     "metadata": {
      "needs_background": "light"
     },
     "output_type": "display_data"
    },
    {
     "data": {
      "image/png": "[encoded data removed]",
      "text/plain": [
       "<Figure size 432x288 with 1 Axes>"
      ]
     },
     "metadata": {
      "needs_background": "light"
     },
     "output_type": "display_data"
    },
    {
     "data": {
      "image/png": "[encoded data removed]",
      "text/plain": [
       "<Figure size 432x288 with 1 Axes>"
      ]
     },
     "metadata": {
      "needs_background": "light"
     },
     "output_type": "display_data"
    }
   ],
   "source": [
    "cols = ['internet', 'studytime']\n",
    "net_groupby = data[cols].groupby('internet', as_index = False)\n",
    "study_net = net_groupby.mean()\n",
    "\n",
    "plt.bar(study_net['internet'], study_net['studytime'])\n",
    "plt.show()\n",
    "\n",
    "cols = ['internet', 'studytime', 'G3']\n",
    "study_net_grade_groupby = data[cols].groupby(['internet', 'studytime'], as_index = False)\n",
    "study_net_grade = study_net_grade_groupby.mean()\n",
    "\n",
    "net_colors = ['green' if net_access == 'yes' else 'red' for net_access in study_net_grade['internet']]\n",
    "plt.scatter(study_net_grade['studytime'], study_net_grade['G3'], c = net_colors)\n",
    "plt.show()\n",
    "\n",
    "net_colors = ['green'if net_access == 'yes' else 'red' for net_access in total_data['internet']]\n",
    "plt.scatter(total_data['studytime'], total_data['G3'], c = net_colors)\n",
    "plt.show()"
   ]
  },
  {
   "cell_type": "markdown",
   "metadata": {},
   "source": [
    "Suprising to see that in this case, students at the two schools do not study less when they have access to internet on average. Possibly studying more due to having access to more resources? \n",
    "\n",
    "Looking at the grades by study time and internet access shows lower grades without internet access. "
   ]
  },
  {
   "cell_type": "markdown",
   "metadata": {},
   "source": [
    "### Machine Learning\n",
    "Now that we have some idea of what our data looks like in relation to itself, let's get back to the question of what predicts grade. To do this, we will perform machine learning which is using statistics to find patterns so as to predict things we want to know. The libraries/models we will use only take numerical data, so we will have to convert our categorical data like yes or no questions, or parent's occupation type.\n",
    "\n",
    "An elegant way to do this is iterating over dataframe's select_dtypes() function to pick out the non-int columns, get a list of its unique values using series.drop_duplicates(), with series being the name of a column in a dataframe, and replace each category with a number.\n",
    "\n",
    "Then we split the data into our features (independent variables) and results (dependent variable). We convert grades into a boolean representing above average grade to make this a classification problem as it's difficult to predict on a continuous range accurately, at least with modest sample sizes. Next is splitting both sets into train/test splits, we will use section to train our model, and the rest for testing. It is important that your model does not get to see any of the test data, and that the selection is unbiased so that the model is not effectively peeking at the answer and is truly predicting it. For split parameters, we pick a test_size of 33% and an arbitrary random state which just ensures the same split for the same number to reproduce results.\n",
    "\n",
    "The parameter we include for LogisticRegression() is an arbitrarily large max iterations to ensure convergence. "
   ]
  },
  {
   "cell_type": "code",
   "execution_count": 598,
   "metadata": {},
   "outputs": [
    {
     "name": "stdout",
     "output_type": "stream",
     "text": [
      "school\n",
      "sex\n",
      "address\n",
      "Pstatus\n",
      "Mjob\n",
      "Fjob\n",
      "reason\n",
      "guardian\n"
     ]
    }
   ],
   "source": [
    "df = total_data.drop(columns=['G1', 'G2'])\n",
    "\n",
    "df = df.replace(['yes', 'no', 'GT3', 'LE3'], [1, 0, 1, 0])\n",
    "\n",
    "# Replace categories with numbers\n",
    "for (col_name, col_data) in df.select_dtypes(include=[object]).iteritems():\n",
    "    categories = col_data.drop_duplicates().to_list()\n",
    "    df = df.replace(categories, range(len(categories)))\n",
    "    print(col_name)\n",
    "\n",
    "df_x = df.drop(columns=['G3'])\n",
    "df_y = total_data['G3']\n",
    "df_y = df_y > df_y.mean()"
   ]
  },
  {
   "cell_type": "code",
   "execution_count": 601,
   "metadata": {},
   "outputs": [],
   "source": [
    "from sklearn.model_selection import train_test_split\n",
    "from sklearn.linear_model import LogisticRegression\n",
    "\n",
    "# Random state controls the randomness so as to be reproducible if you provide an int\n",
    "x_train, x_test, y_train, y_test = train_test_split(df_x, df_y, test_size=0.33, random_state=42)\n",
    "\n",
    "reg = LogisticRegression(max_iter=10000).fit(x_train, y_train)"
   ]
  },
  {
   "cell_type": "markdown",
   "metadata": {},
   "source": [
    "Now that we have fitted a model, we can look at the coefficients for the terms by themselves as independent variables to roughly gauge which ones are the most influential in predicting whether a student will earn a grade above the mean according to python's logistic regression implementation. To gauge the accuracy of our model, we will make use of sklearn's metrics module's accuracy_score function to compare our predicted y values and the actual ones. "
   ]
  },
  {
   "cell_type": "code",
   "execution_count": 600,
   "metadata": {
    "scrolled": false
   },
   "outputs": [
    {
     "name": "stdout",
     "output_type": "stream",
     "text": [
      "Feature: 1,\tScore: -0.55024\n",
      "Feature: 2,\tScore: -0.30797\n",
      "Feature: 3,\tScore: 0.00552\n",
      "Feature: 4,\tScore: -0.24322\n",
      "Feature: 5,\tScore: -0.13208\n",
      "Feature: 6,\tScore: 0.19178\n",
      "Feature: 7,\tScore: 0.15748\n",
      "Feature: 8,\tScore: 0.10602\n",
      "Feature: 9,\tScore: 0.07789\n",
      "Feature: 10,\tScore: 0.12641\n",
      "Feature: 11,\tScore: 0.10619\n",
      "Feature: 12,\tScore: 0.25327\n",
      "Feature: 13,\tScore: -0.08733\n",
      "Feature: 14,\tScore: 0.18688\n",
      "Feature: 15,\tScore: -1.38275\n",
      "Feature: 16,\tScore: -1.30839\n",
      "Feature: 17,\tScore: -0.29097\n",
      "Feature: 18,\tScore: -0.67425\n",
      "Feature: 19,\tScore: 0.22924\n",
      "Feature: 20,\tScore: 0.12414\n",
      "Feature: 21,\tScore: 1.65828\n",
      "Feature: 22,\tScore: 0.07701\n",
      "Feature: 23,\tScore: 0.07544\n",
      "Feature: 24,\tScore: 0.03352\n",
      "Feature: 25,\tScore: -0.04871\n",
      "Feature: 26,\tScore: -0.10521\n",
      "Feature: 27,\tScore: -0.02191\n",
      "Feature: 28,\tScore: -0.05850\n",
      "Feature: 29,\tScore: -0.08387\n",
      "Feature: 30,\tScore: -0.05984\n",
      "Accuracy: 0.7043478260869566\n"
     ]
    },
    {
     "data": {
      "image/png": "[encoded data removed]",
      "text/plain": [
       "<Figure size 432x288 with 1 Axes>"
      ]
     },
     "metadata": {
      "needs_background": "light"
     },
     "output_type": "display_data"
    }
   ],
   "source": [
    "importance = reg.coef_[0]\n",
    "\n",
    "# summarize feature importance as independents\n",
    "for i,v in enumerate(importance):\n",
    "    print('Feature: %0d,\\tScore: %.5f' % (i+1,v))\n",
    "\n",
    "plt.bar(range(1, 31, 1), importance)\n",
    "\n",
    "y_pred = reg.predict(x_test)\n",
    "\n",
    "from sklearn import metrics\n",
    "\n",
    "print(\"Accuracy:\", metrics.accuracy_score(y_test, y_pred))\n",
    "\n",
    "plt.show()"
   ]
  },
  {
   "cell_type": "markdown",
   "metadata": {},
   "source": [
    "Our accuracy is 70% in predicting above average final grades which is not bad.\n",
    "\n",
    "We see features 1, 15, 16 as heavily predicting lower grades and feature 21 in predicting higher grades as outliers as the coefficients of the terms are negative or positive and large in magnitude. These are school, past class failures, extra educational support, and whether they are planning on taking higher education respectively.\n",
    "\n",
    "Let's try fitting the same model, but with only the features the logistic regression weighted the most. We can even try a different random state to test whether choice of train/test split changes anything. We select the features using iloc (index locate), ':' as a fill in for rows, and the column indices of the features. Everything else is the same process as before.  "
   ]
  },
  {
   "cell_type": "code",
   "execution_count": 602,
   "metadata": {},
   "outputs": [
    {
     "name": "stdout",
     "output_type": "stream",
     "text": [
      "Accuracy: 0.672463768115942\n"
     ]
    }
   ],
   "source": [
    "df_x = df.iloc[:, [0, 14, 15, 20]]\n",
    "df_y = total_data['G3'] \n",
    "df_y = (df_y > df_y.mean())\n",
    "\n",
    "# Random state controls the randomness so as to be reproducible if you provide an int\n",
    "x_train, x_test, y_train, y_test = train_test_split(df_x, df_y, test_size=0.33, random_state=13)\n",
    "\n",
    "reg = LogisticRegression(max_iter=10000, class_weight = 'balanced')\n",
    "reg = reg.fit(x_train, y_train)\n",
    "\n",
    "y_pred = reg.predict(x_test)\n",
    "\n",
    "print(\"Accuracy:\", metrics.accuracy_score(y_test, y_pred))"
   ]
  },
  {
   "cell_type": "markdown",
   "metadata": {},
   "source": [
    "Only a 2% accuracy loss from whittling 30 features down to the 4 most heavily weighted features! An ~86.7% decrease in features. This is handy for requiring less information to make a good guess, because 30 features is a lot when hand inputting information for each subject.\n",
    "\n",
    "Feel free to fill in your own features (school, past class failures, extra educational support, and plans on higher education) to see if the model thinks you would have an above average final grade if you were one of the students. The first is not relevant unless you go to either school so you can try either. Remember we substitued no/Gabriel Pereira for 0 and yes/Mousinho da Silveira for 1."
   ]
  },
  {
   "cell_type": "code",
   "execution_count": 570,
   "metadata": {},
   "outputs": [
    {
     "name": "stdout",
     "output_type": "stream",
     "text": [
      "[ True]\n",
      "[False]\n"
     ]
    }
   ],
   "source": [
    "print(reg.predict(np.array([0, 0, 0, 1]).reshape(-1, 4)))\n",
    "print(reg.predict(np.array([1, 0, 0, 1]).reshape(-1, 4)))"
   ]
  },
  {
   "cell_type": "markdown",
   "metadata": {},
   "source": [
    "The model predicts I would have above average grades if I was a Gabriel Pereira student and that I would not if I attended Mousinho da Silveira.\n",
    "\n",
    "The site we downloaded the data from mentioned that 1st and 2nd year grades (G1, G2) were the best predictors for 3rd year grades (G3), but that was not very useful as the goal is to find out what predicts grades in the first place. We can test this out by doing the same with year 1 and 2 grades as features."
   ]
  },
  {
   "cell_type": "code",
   "execution_count": 603,
   "metadata": {},
   "outputs": [],
   "source": [
    "df_x = total_data[['G1', 'G2']]\n",
    "df_y = total_data['G3']\n",
    "df_y = df_y > df_y.mean()\n",
    "\n",
    "x_train, x_test, y_train, y_test = train_test_split(df_x, df_y, test_size=0.33, random_state=42)\n",
    "\n",
    "reg2 = LogisticRegression(max_iter=10000, class_weight = 'balanced')\n",
    "reg2 = reg2.fit(x_train, y_train)"
   ]
  },
  {
   "cell_type": "code",
   "execution_count": 475,
   "metadata": {},
   "outputs": [
    {
     "name": "stdout",
     "output_type": "stream",
     "text": [
      "Feature: 1, Score: 0.33940\n",
      "Feature: 2, Score: 2.17614\n",
      "Accuracy: 0.936231884057971\n"
     ]
    },
    {
     "data": {
      "image/png": "[encoded data removed]",
      "text/plain": [
       "<Figure size 432x288 with 1 Axes>"
      ]
     },
     "metadata": {
      "needs_background": "light"
     },
     "output_type": "display_data"
    }
   ],
   "source": [
    "importance = reg2.coef_[0]\n",
    "\n",
    "# summarize feature importance as independents\n",
    "for i,v in enumerate(importance):\n",
    "    print('Feature: %0d, Score: %.5f' % (i+1,v))\n",
    "\n",
    "plt.bar(['Year 1', 'Year 2'], importance)\n",
    "\n",
    "y_pred = reg.predict(x_test)\n",
    "\n",
    "print(\"Accuracy:\", metrics.accuracy_score(y_test, y_pred))\n",
    "\n",
    "plt.show()"
   ]
  },
  {
   "cell_type": "markdown",
   "metadata": {},
   "source": [
    "Interestingly, year 2 is a much better predictor of year 3 grades, weighted more than 4 times as much! We can hypothesize this is because students may be unused to the system at the school and their first grades are not representative of what they can achieve with experience whereas grades after a year of getting used to the school is a much better indicator of their future grades. Unsurprisingly, prior year grades are much more accurate than various loosely related features in predicting if final grade will be above average, around a 33-36% accuracy increase with only 2 features compared to 30 or 4. "
   ]
  },
  {
   "cell_type": "markdown",
   "metadata": {},
   "source": [
    "Besides logistic regression, 6 other supervised machine learning classification algorithms we can use include the below.\n",
    "\n",
    "* Linear Discriminant Analysis (LDA) (only classification)\n",
    "* classification (or regression) trees,\n",
    "* random forests\n",
    "* linear SVM,\n",
    "* non-linear SVM\n",
    "* k-NN classification (or regression)\n",
    "\n",
    "Which algorithm is best can vary, especially depending on your data, so you can try them out and test which one is best suited for predicting based on your dataset. We will pick two for demonstration. For testing, we are going to use a 10-fold split, which means that we are going to split the data into training and testing sets 10 times such that all of the data is the test section at one point. For each split, we will record the accuracy score for logistic regression, linear discriminant anlysis, and decision tree classification. Let's begin with setup and preparing variables."
   ]
  },
  {
   "cell_type": "code",
   "execution_count": 604,
   "metadata": {},
   "outputs": [],
   "source": [
    "from sklearn.model_selection import KFold\n",
    "\n",
    "# Recalibrate index and drop the old indices\n",
    "df_x = df_x.reset_index(drop = True)\n",
    "X = np.array(df_x).reshape(-1, 4)\n",
    "\n",
    "y = df['G3']\n",
    "y = y > y.mean()\n",
    "y = y.reset_index(drop = True)\n",
    "\n",
    "kf = KFold(n_splits=10)\n",
    "kf.get_n_splits(X)\n",
    "\n",
    "LR_scores = np.zeros(10)\n",
    "LDA_scores = np.zeros(10)\n",
    "DTC_scores = np.zeros(10)"
   ]
  },
  {
   "cell_type": "markdown",
   "metadata": {},
   "source": [
    "Now that we have selected the indices for the splits, we will iterate over them, fit the training data, and calculate scores. "
   ]
  },
  {
   "cell_type": "code",
   "execution_count": 606,
   "metadata": {},
   "outputs": [
    {
     "name": "stdout",
     "output_type": "stream",
     "text": [
      "0.52830 : 0.50943 : 0.58491\n",
      "0.50943 : 0.56604 : 0.50943\n",
      "0.59615 : 0.42308 : 0.51923\n",
      "0.53846 : 0.44231 : 0.53846\n",
      "0.53846 : 0.53846 : 0.50000\n",
      "0.53846 : 0.51923 : 0.48077\n",
      "0.57692 : 0.42308 : 0.59615\n",
      "0.48077 : 0.44231 : 0.50000\n",
      "0.36538 : 0.40385 : 0.46154\n",
      "0.46154 : 0.51923 : 0.44231\n"
     ]
    }
   ],
   "source": [
    "from sklearn.discriminant_analysis import LinearDiscriminantAnalysis\n",
    "from sklearn import tree\n",
    "\n",
    "score_i = 0;\n",
    "\n",
    "# 10-fold splits\n",
    "for train_index, test_index in kf.split(X):\n",
    "    X_train = X[train_index]\n",
    "    X_test = X[test_index]\n",
    "    y_train = y[train_index]\n",
    "    y_test = y[test_index]\n",
    "    \n",
    "    # Fitting\n",
    "    LDA = LinearDiscriminantAnalysis().fit(X_train, y_train)\n",
    "    DTC = tree.DecisionTreeClassifier().fit(X_train, y_train)\n",
    "    LR = LogisticRegression(max_iter=10000, class_weight = 'balanced').fit(X_train, y_train)\n",
    "\n",
    "    # Calculating, storing, and outputting scores\n",
    "    LDA_score = LDA.score(X_test, y_test)\n",
    "    DTC_score = DTC.score(X_test, y_test)\n",
    "    LR_score = LR.score(X_test, y_test)\n",
    "\n",
    "    LR_scores[score_i] = LR_score\n",
    "    LDA_scores[score_i] = LDA_score\n",
    "    DTC_scores[score_i] = DTC_score\n",
    "    score_i += 1\n",
    "\n",
    "    print(\"%.5f : %.5f : %.5f\" % (LDA_score, DTC_score, LR_score))"
   ]
  },
  {
   "cell_type": "markdown",
   "metadata": {},
   "source": [
    "At first glance, linear discriminant analysis and decision tree classifying seem to be doing better than logistic regression by a percent in the single digits.\n",
    "\n",
    "Now let's average them for a clearer overview as well as perform a 2-sample t-test for difference in true mean for LDA and DTC against LR. This is used with small samples, which 10 fits pretty well, (n < 30 can still be considered small). The stats module in scipy has a handy function for this. Our null hypothesis is the means are the same and the alternate is that the means are not. We can choose a level of significance to judge the p-value against, say 5%. If the p-value is less than the level of significance, 0.05, then we reject the null hypothesis and accept the alternate that our means are different as the chances of getting our sample given the distribution's true means are equal is less than 5% (pretty unlikely). "
   ]
  },
  {
   "cell_type": "code",
   "execution_count": 576,
   "metadata": {},
   "outputs": [
    {
     "name": "stdout",
     "output_type": "stream",
     "text": [
      "\n",
      "Score complement mean of LDA: 0.31787\n",
      "Score complement mean of DTC: 0.31787\n",
      "Score complement mean of LR: 0.34261\n",
      "LDA vs LR t-test pvalue: 0.23704\n",
      "DTC vs LR t-test pvalue: 0.23704\n"
     ]
    }
   ],
   "source": [
    "from scipy import stats\n",
    "\n",
    "print(\"\\nScore complement mean of LDA: %.5f\" % ((10 - LDA_scores.sum())/10))\n",
    "print(\"Score complement mean of DTC: %.5f\" % ((10 - DTC_scores.sum())/10))\n",
    "print(\"Score complement mean of LR: %.5f\" % ((10 - LR_scores.sum())/10))\n",
    "print(\"LDA vs LR t-test pvalue: %.5f\" % (stats.ttest_rel(LDA_scores, LR_scores).pvalue))\n",
    "print(\"DTC vs LR t-test pvalue: %.5f\" % (stats.ttest_rel(DTC_scores, LR_scores).pvalue))"
   ]
  },
  {
   "cell_type": "markdown",
   "metadata": {},
   "source": [
    "Now with the summarized data, we see that linear discriminant analysis and decision tree classifying are actually more accurate than logistic regression (less points lost). However, our t-test of logistic regression against both the other methods returned a p-value of ~0.23 which is > 0.05, our level of significance, so we accept the null hypothesis that the means of the samples are the same. So the other methods are not significantly more accurate than logisitic regression."
   ]
  },
  {
   "cell_type": "markdown",
   "metadata": {},
   "source": [
    "#### Further Reading\n",
    "###### Calculating Feature Importance with Python\n",
    "https://machinelearningmastery.com/calculate-feature-importance-with-python/>\n",
    "###### How to increase Model Accuracy of Logistic Regression in Python\n",
    "https://stackoverflow.com/questions/38077190/how-to-increase-the-model-accuracy-of-logistic-regression-in-scikit-python\n",
    "\n",
    "#### Refs\n",
    "\n",
    "##### Data (Try it out yourself or follow along)\n",
    "https://archive.ics.uci.edu/ml/datasets/Student+Performance?fbclid=IwAR3LwfRhSdAJeCyq6TPozjZP7ex7a5FdKQae1mNi2ZAcxO_-WBHkCOZpOjA\n",
    "\n",
    "P. Cortez and A. Silva. Using Data Mining to Predict Secondary School Student Performance. In A. Brito and J. Teixeira Eds., Proceedings of 5th FUture BUsiness TEChnology Conference (FUBUTEC 2008) pp. 5-12, Porto, Portugal, April, 2008, EUROSIS, ISBN 978-9077381-39-7.\n",
    "\n",
    "#### Kaggle, a great source of databases/data science hub to pick out what something you personally are interested in analyzing \n",
    "https://www.kaggle.com/\n"
   ]
  }
 ],
 "metadata": {
  "kernelspec": {
   "display_name": "Python 3",
   "language": "python",
   "name": "python3"
  },
  "language_info": {
   "codemirror_mode": {
    "name": "ipython",
    "version": 3
   },
   "file_extension": ".py",
   "mimetype": "text/x-python",
   "name": "python",
   "nbconvert_exporter": "python",
   "pygments_lexer": "ipython3",
   "version": "3.8.5"
  }
 },
 "nbformat": 4,
 "nbformat_minor": 4
}
